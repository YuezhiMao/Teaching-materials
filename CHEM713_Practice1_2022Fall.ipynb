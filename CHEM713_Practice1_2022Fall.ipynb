{
  "nbformat": 4,
  "nbformat_minor": 0,
  "metadata": {
    "colab": {
      "provenance": [],
      "authorship_tag": "ABX9TyOd132eiFsLQ0ON4Lamj1bG",
      "include_colab_link": true
    },
    "kernelspec": {
      "name": "python3",
      "display_name": "Python 3"
    },
    "language_info": {
      "name": "python"
    }
  },
  "cells": [
    {
      "cell_type": "markdown",
      "metadata": {
        "id": "view-in-github",
        "colab_type": "text"
      },
      "source": [
        "<a href=\"https://colab.research.google.com/github/YuezhiMao/Teaching-materials/blob/main/CHEM713_Practice1_2022Fall.ipynb\" target=\"_parent\"><img src=\"https://colab.research.google.com/assets/colab-badge.svg\" alt=\"Open In Colab\"/></a>"
      ]
    },
    {
      "cell_type": "markdown",
      "source": [
        "# **Practice Session 1: Matrix Algebra using Numpy**\n",
        "\n",
        "\n",
        "In this practice session, we will use an interactive Python Notebook on the cloud (Google Colab) to demonstrate how one can use **NumPy** to perform the basic operations in matrix algebra. Python is a popular programming language that is widely used in both academic research and industry, and NumPy is a Python *library* that offers many useful functions that are fundamental to scientific computing. In this practice, you don't actually need to do much programming; instead, NumPy will mostly work as a calculator for matrices.\n",
        "\n",
        "In order to use NumPy, we first need to **import** it. On this interactive Python Notebook, you can run a code block by pressing \"Shift+Enter\" on your keyboard. Now, run the code block below to import numpy:\n",
        "\n",
        "\n"
      ],
      "metadata": {
        "id": "9o-pCuh13mH8"
      }
    },
    {
      "cell_type": "code",
      "source": [
        "import numpy as np"
      ],
      "metadata": {
        "id": "u4zIgU0D3rxw"
      },
      "execution_count": null,
      "outputs": []
    },
    {
      "cell_type": "markdown",
      "source": [
        "Once a green tick mark appears on the left, the code block finishes running. Now you get access to all the functions in the NumPy library. The general syntax to call these functions is `np.[funcname]`\n",
        "## 1.1 Vectors as 1-D Numpy Arrays\n",
        "Let's start with creating two vectors in the real 3-D space. To do that, you can use the `np.array()` function, since a vector in a space of any arbitrary dimesnions would correspond to a 1-D array in Numpy:\n",
        "```\n",
        "u = np.array([u_1, u_2, u_3, ..., u_n])\n",
        "```\n",
        "Note that for a function in Python, the contents in the parenthesis `( )` are referred to as **parameters** or **arguments**, which are like the input data of a function. A function may require one or multiple input parameters. `u`, on the hand, is the value *returned* by the function (output). For the function `np.array()`, the input is an array of numbers separated by commas in a square braket, which is a **list** of numbers in Python.\n",
        "\n",
        "Now let's create two 3-D vectors:\n",
        "\\begin{equation}\n",
        " \\vec{u} = (2, 3, 6), \\quad \\vec{v} = (1, 0, 4)\n",
        "\\end{equation}\n",
        "Note that based on our discussion in lecture, a vector should correspond to a column matrix. However, it is more intuitive to think of a Numpy array as a row vector *unless* it is left-multiplied by a matrix.\n",
        "\n",
        "**Practice 1.1.1:** In the block below, I have created $\\vec{u}$; do the same for $\\vec{v}$ and then check if $\\vec{u}$ and $\\vec{v}$ have been constructed successfully. To do that, you can just call the `print()` function, e.g., for a NumPy array `ndarray` we can simply do\n",
        "\n",
        "```\n",
        "print (ndarray)\n",
        "```\n",
        "\n"
      ],
      "metadata": {
        "id": "_hUuK-rL_as2"
      }
    },
    {
      "cell_type": "code",
      "source": [
        "#Practice: create vectors A and B and print them out\n",
        "u = np.array([2, 3, 6])\n",
        "#Your work for 1.1.1 (will be graded)\n",
        "\n"
      ],
      "metadata": {
        "id": "3vFFI4sl_XX3"
      },
      "execution_count": null,
      "outputs": []
    },
    {
      "cell_type": "markdown",
      "source": [
        "A useful thing to note is that in a code black, contents after \"#\" in the same line are *comments*, which will *not* be executed when you run that block of code. *Writing comments is a good habit to have when doing programming.*\n",
        "\n",
        "A NumPy array has a bunch of instrinsic properties that one can check out, which are called **attributes** of a variable (the NumPy array) in the Python terminology. Simply run the block below, you will be able to figure out that the data stored in these arrays are of type `int64` and the size (length) of the array is 3."
      ],
      "metadata": {
        "id": "_XAZ6xpuahQx"
      }
    },
    {
      "cell_type": "code",
      "source": [
        "print (u.dtype) #data type\n",
        "print (u.size)  #array size"
      ],
      "metadata": {
        "id": "InbjV3LdNGp_"
      },
      "execution_count": null,
      "outputs": []
    },
    {
      "cell_type": "markdown",
      "source": [
        "One can access each component of a vector (corresponding to each element of a NumPy array) using the syntax of `ndarray[index]`. For an array in NumPy, the first element is of index 0, and the last element is $n-1$. One can also obtain a subarray using syntax like `ndarray[index_start : index_end]`, which will return a vector consisting of elements from `index_start` to `index_end - 1`. Run the block below to see some examples:"
      ],
      "metadata": {
        "id": "DT3rjQPEe-2q"
      }
    },
    {
      "cell_type": "code",
      "source": [
        "print (\"The 2nd element of u is: %d\" %u[1])\n",
        "print (\"The subarray formed by the first two elements of u:\")\n",
        "print (u[0 : 2])"
      ],
      "metadata": {
        "id": "fBkRLFyOiEem"
      },
      "execution_count": null,
      "outputs": []
    },
    {
      "cell_type": "markdown",
      "source": [
        "Now let's see check out the operations of NumPy arrays (vectors). First we introduce the operations with scalars. Typically, these operations will be broadcast to each element of the array. For example, `u + 2` will add \"2\" to all elements of `u`, and `u/2` will divide each element of `u` by 2. Run the code block below to see some examples:"
      ],
      "metadata": {
        "id": "9UMhkqrSsl9T"
      }
    },
    {
      "cell_type": "code",
      "source": [
        "a_1 = u - 2.5\n",
        "print (\"a_1: \" + str(a_1))\n",
        "a_2 = 0.5 * u\n",
        "print (\"a_2: \" + str(a_2))\n",
        "a_3 = u ** 2 # \"** 2\" means square in Python\n",
        "print (\"a_3: \" + str(a_3))\n",
        "print (a_1.dtype, a_2.dtype, a_3.dtype)"
      ],
      "metadata": {
        "id": "tAISbf8UfGu2"
      },
      "execution_count": null,
      "outputs": []
    },
    {
      "cell_type": "markdown",
      "source": [
        "From the last line of print above we can see that NumPy arrarys are smart enough to adjust their data types (from int64 to float64) when necessary.\n",
        "\n",
        "Now let's check out the element-wise addition, subtraction, and multiplication between two vectors, which can simply be accomplished by `u + v`, `u - v`, and `u * v`, respectively. Run the block below to see some examples.\n",
        "\n",
        "Note: `np.ones(N)` generates a $N$-dimensional vector with all elements equal to 1."
      ],
      "metadata": {
        "id": "sRqyrlsuwQzh"
      }
    },
    {
      "cell_type": "code",
      "source": [
        "s = np.ones(3) * 0.5  #this generates a vector [0.5, 0.5, 0,5]\n",
        "print (\"u = \" + str(u) + \"; s = \" + str(s))\n",
        "print (\"u + s = \" + str(u + s))\n",
        "print (\"u - s = \" + str(u - s))\n",
        "print (\"u * s = \" + str(u * s))"
      ],
      "metadata": {
        "id": "ZkkkaqbNviBi"
      },
      "execution_count": null,
      "outputs": []
    },
    {
      "cell_type": "markdown",
      "source": [
        "**Practice 1.1.2:** With vectors $\\vec{u}$ and $\\vec{v}$ defined above, denote $\\vec{w} = \\frac{1}{4} \\vec{u} + \\frac{3}{4} \\vec{v}$. Complete the following tasks within the code block below:\n",
        "\n",
        "\n",
        "1.   Calculate $\\vec{w}$ (as a NumPy array)\n",
        "2.   Print out the last element of `w`\n",
        "3.   Print out the data type of `w`\n",
        "\n",
        "\n",
        "\n"
      ],
      "metadata": {
        "id": "zVjFAnLTyt6S"
      }
    },
    {
      "cell_type": "code",
      "source": [
        "#Your work for 1.1.2 (will be graded)\n"
      ],
      "metadata": {
        "id": "tOMEB6G5x5NN"
      },
      "execution_count": null,
      "outputs": []
    },
    {
      "cell_type": "markdown",
      "source": [
        "Differing from the element-wise product between two vectors (`u * v`), the **inner product** between two vectors yields a scalar (number). To evaluate the inner product between two vectors, we will need the `np.dot()` function. For two real vectors $\\vec{v}_1$ and $\\vec{v}_2$ (the corresponding NumPy arrays are `v_1` and `v_2`), the inner product $\\vec{v}_1\\cdot \\vec{v}_2$ is given by\n",
        "\n",
        "```\n",
        "np.dot(v_1, v_2)\n",
        "```\n",
        "\n",
        "**Practice 1.1.3:** The **projection** of vector $\\vec{u}$ along the direction of $\\vec{v}$ is defined as\n",
        "\\begin{equation}\n",
        "\\vec{u} \\cdot \\frac{\\vec{v}}{\\vert \\vec{v}\\vert}\n",
        "\\end{equation}\n",
        "In the code block below, calculate this projection with the same $\\vec{u}$ and $\\vec{v}$ as defined above.\n",
        "\n",
        "**Hint:** the length of $\\vec{v}$ can be calculated as the square root (using the `np.sqrt()` function) of $\\vec{v}$'s inner product with itself (you can also look up the usage of the `np.linalg.norm()` function)"
      ],
      "metadata": {
        "id": "imeGpgMB6mzl"
      }
    },
    {
      "cell_type": "code",
      "source": [
        "#Your work for 1.1.3 (will be graded)\n"
      ],
      "metadata": {
        "id": "CRlszvEk9W0h"
      },
      "execution_count": null,
      "outputs": []
    },
    {
      "cell_type": "markdown",
      "source": [
        "Before moving to the next section, we would like to make the extension to **complex vectors**. In Python, $i = \\sqrt{-1}$ is denoted as `j`, so a complex number in NumPy will be written in the form of `z = x + yj`. The *complex conjugate* of `z` can be obtained by `z.conjugate()` or `np.conj(z)`. Run the code block below to see some examples:"
      ],
      "metadata": {
        "id": "cYOC_MeS_61a"
      }
    },
    {
      "cell_type": "code",
      "source": [
        "z_1 = 3 + 4j\n",
        "z_2 = z_1.conjugate()\n",
        "print (\"z_1 z_2 = \" + str(z_1 * z_2))"
      ],
      "metadata": {
        "id": "CN-lP3Km_QQw"
      },
      "execution_count": null,
      "outputs": []
    },
    {
      "cell_type": "markdown",
      "source": [
        "Change `z_1.conjugate()` to `np.conj(z_1)` and run the block again. Does the result change?\n",
        "\n",
        "Similarly, complex vectors can be represented as 1-D arrays in NumPy that contains complex numbers. For example, a 3-D complex vector in general can be constructed as\n",
        "\n",
        "\n",
        "```\n",
        "v = np.array([x_1+y_1*j, x_2+y_2*j, x_3+y_3*j])\n",
        "```\n",
        "\n",
        "**Practice 1.1.4:** Given\n",
        "\\begin{equation}\n",
        "\\vec{v}_1 = (1.0, 2.0 - i, 1.0 + 0.5i), \\quad \\vec{v}_2 = (3.0 - i, 1.0, 2.0 - 2i)\n",
        "\\end{equation}\n",
        "\n",
        "In the code block below:\n",
        "1.   Calculate the inner product $<\\vec{v}_1, \\vec{v}_2>$ (note: you need to take the complex conjugate of $\\vec{v}_1$ before calculating the dot product)\n",
        "2.   Show that the results of $<\\vec{v}_1, \\vec{v}_1>$ and $<\\vec{v}_2, \\vec{v}_2>$ are real\n",
        "\n"
      ],
      "metadata": {
        "id": "hdS0FoUeCpNZ"
      }
    },
    {
      "cell_type": "code",
      "source": [
        "#Your work for 1.1.4 (will be graded)\n",
        "#Tip: remember to replace \"i\" with \"j\" when defining the complex vectors;\n",
        "#Write \"1j\" explicitly instead of \"j\" when the coefficient is 1\n"
      ],
      "metadata": {
        "id": "gE57u3LOBiug"
      },
      "execution_count": null,
      "outputs": []
    },
    {
      "cell_type": "markdown",
      "source": [
        "#1.2 Matrices in NumPy\n",
        "Now we are going to introduce how to construct matrices and perform the basic matrix operations in NumPy. There are more than one ways to create a matrix object in NumPy. One way is to generate matrix as a 2D NumPy array. For example, a $2\\times 2$ matrix\n",
        "\\begin{equation}\n",
        "\\mathbf{A} =\n",
        "\\begin{pmatrix}\n",
        "1 & 2 \\\\\n",
        "3 & 4 \\\\\n",
        "\\end{pmatrix}\n",
        "\\end{equation}\n",
        "can be represented as\n",
        "\n",
        "```\n",
        "A = np.array([[1, 2], [3, 4]])\n",
        "```\n",
        "\n",
        "Here the argument of `np.array()` contains two layers of square brakets: each \"[...]\" inside the outer braket corresponds to a row in the matrix. One can also explicitly use the `np.mat()` function to define a matrix object:\n",
        "\n",
        "\n",
        "```\n",
        "A = np.mat('1 2; 3 4')\n",
        "```\n",
        "Note that a **NumPy matrix** is *specialized* for a 2-D array that owns features of a matrix. In the sense, this 2nd definition is less general than the first one. In fact, the argument of `np.mat()` can also be a 2D array, which is **equivalent** to the first way of constructing `np.mat()` as shown above. Run the code block below that contains two different ways of defining\n",
        "\\begin{equation}\n",
        "\\mathbf{B} =\n",
        "\\begin{pmatrix}\n",
        "4 & 3 \\\\\n",
        "2 & 1 \\\\\n",
        "\\end{pmatrix}\n",
        "\\end{equation}\n",
        "to get a better understanding of this:\n",
        "\n",
        "\n"
      ],
      "metadata": {
        "id": "Dm5pLYmMIZ_5"
      }
    },
    {
      "cell_type": "code",
      "source": [
        "B = np.array([[4, 3], [2, 1]])\n",
        "#1st way: np.mat() takes a 2D NumPy array\n",
        "B_1 = np.mat(B)\n",
        "print (B_1)\n",
        "#2nd way: np.mat() takes matrix rows separated by \";\" directly\n",
        "B_2 = np.mat('4 3; 2 1')\n",
        "print (B_2)"
      ],
      "metadata": {
        "id": "0ORy-glEY0Zd"
      },
      "execution_count": null,
      "outputs": []
    },
    {
      "cell_type": "markdown",
      "source": [
        "In this practice, we will only introduce matrix operations based on objects constructed using `np.mat()`. Now let's properly define matrices $\\mathbf{A}$ and $\\mathbf{B}$ by running the code block below:"
      ],
      "metadata": {
        "id": "BQ1LlmTcZr1F"
      }
    },
    {
      "cell_type": "code",
      "source": [
        "A = np.mat('1 2; 3 4')\n",
        "B = np.mat('4 3; 2 1')\n",
        "print (A)\n",
        "print (B)"
      ],
      "metadata": {
        "id": "l9Rqb_THY060"
      },
      "execution_count": null,
      "outputs": []
    },
    {
      "cell_type": "markdown",
      "source": [
        "Let's first look at the addition/subtraction of two matrices and multiplication with a scalar. The syntax for these operations are identical to those for vectors. Run the code block below to see some simple examples:"
      ],
      "metadata": {
        "id": "0WqKqnQugGVC"
      }
    },
    {
      "cell_type": "code",
      "source": [
        "print (\"2B - A:\")\n",
        "print (2*B - A)\n",
        "print (\"(A + 2B)/2:\")\n",
        "print ((A + 2*B)/2 )"
      ],
      "metadata": {
        "id": "ImaPp6eMhusT"
      },
      "execution_count": null,
      "outputs": []
    },
    {
      "cell_type": "markdown",
      "source": [
        "For the **multiplication** between two NumPy matrices `A` and `B`, there are two equivalent ways: one can either simply write `A*B` or use function `np.matmul()`:\n",
        "\n",
        "```\n",
        "np.matmul(A, B)\n",
        "```\n",
        "\n",
        "Denoting $\\mathbf{W} = \\mathbf{AB}$, run the code block below to see the equivalency of these two ways of performing matrix multiplication:"
      ],
      "metadata": {
        "id": "Fy-LOCZ6imBN"
      }
    },
    {
      "cell_type": "code",
      "source": [
        "W_1 = A * B  #the 1st way of doing matrix multiplication\n",
        "print (W_1)\n",
        "W_2 = np.matmul(A, B)  #the 2nd way of doing matrix multiplication\n",
        "print (W_2)"
      ],
      "metadata": {
        "id": "aSOQzCR-jrXn"
      },
      "execution_count": null,
      "outputs": []
    },
    {
      "cell_type": "markdown",
      "source": [
        "Since matrices are essentially 2D arrays, we can access each matrix element by specifying the *row* and *column* indices. Note again that the first index in NumPy arrays or matrix rows/columns is 0. For example, element $A_{12}$ is given by `A[0, 1]`.\n",
        "\n",
        "One can also obtain the entire row/column of a matrix:\n",
        "\n",
        "\n",
        "*   To get the $i$-th row of $\\mathbf{A}$, we can do `A[i-1, :]`, where the \":\" after \",\" means \"*all columns*\"\n",
        "*   To get the $j$-th column of $\\mathbf{A}$, we can do `A[:, j-1]`, where the \":\" before \",\" means \"*all rows*\"\n",
        "\n",
        "\n",
        "**Practice 1.2.1:** Given two matrices:\n",
        "\\begin{equation}\n",
        "\\mathbf{M}_1 =\n",
        "\\begin{pmatrix}\n",
        "2 & 3 & 1 \\\\\n",
        "7 & 4 & 1 \\\\\n",
        "9 & -2 & 1 \\\\\n",
        "\\end{pmatrix},\\quad\n",
        "\\mathbf{M}_2 =\n",
        "\\begin{pmatrix}\n",
        "9 & -2 & -1 \\\\\n",
        "5 & 7 & 3 \\\\\n",
        "8 & 1 & 0 \\\\\n",
        "\\end{pmatrix}\n",
        "\\end{equation}\n",
        "\n",
        "1.   Calculate the product between two matrices: $\\mathbf{N} = \\mathbf{M}_1 \\mathbf{M}_2$\n",
        "2.   Calculate the product between $\\mathbf{M}_1$'s *2nd* row and $\\mathbf{M}_2$\n",
        "3.   Calculate the product between $\\mathbf{M}_1$ and the *1st* column of $\\mathbf{M}_2$\n",
        "4.   Calculate the sum between $\\mathbf{M}_1$'s *2nd* column and $\\mathbf{M}_2$'s *3rd* column\n",
        "\n"
      ],
      "metadata": {
        "id": "qlU8XjvUj4fr"
      }
    },
    {
      "cell_type": "code",
      "source": [
        "#Your work for 1.2.1 (will be graded)\n",
        "#Should start with defining M1 and M2\n"
      ],
      "metadata": {
        "id": "cdAAZ8MLsWvF"
      },
      "execution_count": null,
      "outputs": []
    },
    {
      "cell_type": "markdown",
      "source": [
        "Let's now introduce two other important operations:\n",
        "\n",
        "1.   The *transpose* of matrix $\\mathbf{A}$ is given by `np.transpose(A)` (or `A.transpose()`)\n",
        "2.   The *trace* (sum over diagonal elements) of $\\mathbf{A}$ is given by `np.trace(A)`\n",
        "\n",
        "Run the code block below. It contains examples of identities $(\\mathbf{AB})^T = \\mathbf{B}^T \\mathbf{A}^T$ and \\\\\n",
        "$\\text{Tr}[\\mathbf{AB}] = \\text{Tr}[\\mathbf{BA}]$ which hold in general:"
      ],
      "metadata": {
        "id": "Pl1ecdzW2138"
      }
    },
    {
      "cell_type": "code",
      "source": [
        "print (\"Matrix W = AB:\")\n",
        "print (A*B)\n",
        "print (\"The transpose of AB:\")\n",
        "print (np.transpose(A*B))\n",
        "print (\"The result of B^tA^t\")\n",
        "print (B.transpose() * A.transpose())\n",
        "print (\"The trace of AB:\")\n",
        "print (np.trace(A*B))\n",
        "print (\"The trace of BA:\")\n",
        "print (np.trace(B*A))"
      ],
      "metadata": {
        "id": "ATWP9yAXj3Ta"
      },
      "execution_count": null,
      "outputs": []
    },
    {
      "cell_type": "markdown",
      "source": [
        "Similar to the vector cases, the NumPy matrices can also be *complex*. For instance, matrix\n",
        "\\begin{equation}\n",
        "\\mathbf{C} =\n",
        "\\begin{pmatrix}\n",
        "1 & 2-i \\\\\n",
        "1+2i & 3 \\\\\n",
        "\\end{pmatrix}\n",
        "\\end{equation}\n",
        "can be constructed using the same syntax as described above\n",
        "\n",
        "```\n",
        "C = np.mat('1 2-1j; 1+2j 3')\n",
        "```\n",
        "Note: when writing complex numbers in the line above, one can't have spaces between the real and imaginary parts \\\\\n",
        "(e.g., `np.mat('1 2 - 1j; 1 + 2j 3')` would result in an error). One can get the **complex conjugate** of $\\mathbf{C}$ by doing \\\\\n",
        "either `C.conjugate()` or `np.conjugate(C)` as in the vector case.\n",
        "\n",
        "To get the **adjoint** of $\\mathbf{C}$ (complex conjugate of the transpose of $\\mathbf{C}$, denoted as $\\mathbf{C}^{\\dagger}$), we can simply do `C.getH()`. Run the code block below to check the results."
      ],
      "metadata": {
        "id": "0qqtq4AHDwKt"
      }
    },
    {
      "cell_type": "code",
      "source": [
        "C = np.mat('1 2-1j; 1+2j 3')\n",
        "print (C)\n",
        "C_conj = np.conjugate(C)\n",
        "print (C_conj)\n",
        "C_adj = C.getH()\n",
        "print (C_adj)"
      ],
      "metadata": {
        "id": "rwmWQU1JHl7e"
      },
      "execution_count": null,
      "outputs": []
    },
    {
      "cell_type": "markdown",
      "source": [
        "**Practice 1.2.2:** Given matrix\n",
        "\\begin{equation}\n",
        "\\mathbf{D} =\n",
        "\\begin{pmatrix}\n",
        "0 &  3- 2i \\\\\n",
        "3 + 2i & -i \\\\\n",
        "\\end{pmatrix}\n",
        "\\end{equation}\n",
        "\n",
        "\n",
        "1.   Get the form of $\\mathbf{D}^{\\dagger}$. Is $\\mathbf{D}$ a Hermitian matrix? (put your answer in the code block as a comment)\n",
        "2.   Calculate matrix multiplication $\\mathbf{D}^{\\ast} \\mathbf{D}$.\n",
        "3.   Calculate $\\mathbf{D}^{\\dagger}\\mathbf{D}$\n",
        "4.   Are the results of 2 and 3 Hermitian matrices? (put your answer in the code block as a comment)\n",
        "\n"
      ],
      "metadata": {
        "id": "T7fkjBxkIG8r"
      }
    },
    {
      "cell_type": "code",
      "source": [
        "#Your work for 1.2.2 (will be graded)\n",
        "#Should start with defining D\n"
      ],
      "metadata": {
        "id": "gWXpAdojJP8B"
      },
      "execution_count": null,
      "outputs": []
    },
    {
      "cell_type": "markdown",
      "source": [
        "Our last topic for today is to find **eigenvalues** and **eigenvectors** of Hermitian matrices. We can do that by simply using the `eigh()` (\"h\" in the function names stands for \"Hermitian\") function in NumPy's *submodule* \"linalg\". Given a Hermitian matrix `H`, we just need to call\n",
        "\n",
        "```\n",
        "w, U = np.linalg.eigh(H)\n",
        "```\n",
        "Here `w` and `U` are two variable with arbitrary names. After the `eigh()` function is executed, `w` will be a 1-D array that contains eigenvalues (in ascending order), while each **column** of `U` will be an eigenvector: for the $i$-th eigenvalue in `w`, the corresponding eigenvector is the $i$-th column of `U`. As I introduced in lecture, this procedure is also called **diagonalization** of a matrix.\n",
        "\n",
        "Let's now look at one example. The matrix we are going to *diagonalize* is\n",
        "\\begin{equation}\n",
        "\\mathbf{S}_y =\n",
        "\\begin{pmatrix}\n",
        "0 & -i/2 \\\\\n",
        "i/2 & 0 \\\\\n",
        "\\end{pmatrix}\n",
        "\\end{equation}\n",
        "Run the code block below to see the results (note: the number \"0.7071...\" you see in the result is from $\\frac{\\sqrt{2}}{2}$):"
      ],
      "metadata": {
        "id": "2jPt4RBd6aSe"
      }
    },
    {
      "cell_type": "code",
      "source": [
        "Sy = np.mat('0 -0.5j; 0.5j 0')\n",
        "w, U = np.linalg.eigh(Sy)\n",
        "print (\"The eigenvalues of Sy:\")\n",
        "print (w)\n",
        "print (\"The eigenvectors of Sy:\")\n",
        "print (U)"
      ],
      "metadata": {
        "id": "3XbZTsu8AHD4"
      },
      "execution_count": null,
      "outputs": []
    },
    {
      "cell_type": "markdown",
      "source": [
        "You can check the columns of `U` are eigenvectors of Sy based on the definition $\\mathbf{A}\\mathbf{v} = a \\mathbf{v}$. For example, for the 1st column, you can check that the result of\n",
        "\n",
        "```\n",
        "Sy * U[:, 0] - w[0] * U[:, 0]\n",
        "```\n",
        "is equal 0.\n",
        "\n",
        "**Practice 1.2.3:** Given Hermitian matrix\n",
        "\\begin{equation}\n",
        "\\mathbf{H} =\n",
        "\\begin{pmatrix}\n",
        "4 & 1-i & 7 \\\\\n",
        "1+i & 6 & -i \\\\\n",
        "7 & i & 5 \\\\\n",
        "\\end{pmatrix}\n",
        "\\end{equation}\n",
        "\n",
        "\n",
        "1.   Calculate the eigenvalues of this matrix\n",
        "2.   Print out the eigenvector corresponds to the 2nd eigenvalue\n",
        "\n"
      ],
      "metadata": {
        "id": "Inp9CctZBR9o"
      }
    },
    {
      "cell_type": "code",
      "source": [
        "#Your work for 1.2.3 (will be graded)\n",
        "#Start with constructing H\n"
      ],
      "metadata": {
        "id": "gJLcXqhNh0ns"
      },
      "execution_count": null,
      "outputs": []
    },
    {
      "cell_type": "markdown",
      "source": [
        "Congratulations! You have gone through this practice and now get an idea on how to use NumPy to do basic linear algebras. The [documentation of NumPy](https://numpy.org/doc/stable/reference/) is always a useful resource to refer to when you have questions about the usage.\n",
        "\n",
        "Please submit your work by **pasting the link** to this Google Colab notebook to the corresponding assignment on Canvas. To do that, you can click \"Share\" on the top right of this page, and then add my email (ymao2@sdsu.edu) to the top of the pop-up box, and click the \"copy link\" button. If you have difficulty doing this, make sure to talk to me before or after the Thursday lecture and I will provide some technical assistance.\n",
        "\n",
        "This assignment is due at **6:30 PM (PDT) this Thursday** (09/15/2022)."
      ],
      "metadata": {
        "id": "m5jAEnRyiSpj"
      }
    }
  ]
}