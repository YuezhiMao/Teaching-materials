{
  "nbformat": 4,
  "nbformat_minor": 0,
  "metadata": {
    "colab": {
      "provenance": [],
      "mount_file_id": "12dPgZpGVDEan0DJM_iEJNzdLzfhpq6sW",
      "authorship_tag": "ABX9TyObD8jT+17kTzTOFUtHWBGI",
      "include_colab_link": true
    },
    "kernelspec": {
      "name": "python3",
      "display_name": "Python 3"
    },
    "language_info": {
      "name": "python"
    }
  },
  "cells": [
    {
      "cell_type": "markdown",
      "metadata": {
        "id": "view-in-github",
        "colab_type": "text"
      },
      "source": [
        "<a href=\"https://colab.research.google.com/github/YuezhiMao/Teaching-materials/blob/main/chem713/vibration.ipynb\" target=\"_parent\"><img src=\"https://colab.research.google.com/assets/colab-badge.svg\" alt=\"Open In Colab\"/></a>"
      ]
    },
    {
      "cell_type": "markdown",
      "source": [
        "# **Practice Session 2: Harmonic Oscillator Wave Functions and Anharmonic Potentials**\n",
        "\n",
        "In this practice session, we will use Python to (i) define and plot harmonic wave functions, (ii) calculate integrals involving these wave functions, and (iii) fit a Morse potential based on the computational results of a bond length scan and extract the vibrational frequency and anharmonic constant. This will involve the use of two new Python packages: **Matplotlib** (for generating plots) and **scipy** (for calculating integrals using a numerical approach and fitting non-linear functions).\n",
        "\n",
        "Let's first introduction **functions** in Python. A Python function is *a piece of code that only runs when it is called*. It can take data as input (which are known as parameters) and can return data as output. In Python Notebook we typically use one code block to define a function, which should start with a line in the format\n",
        "\n",
        "\n",
        "```\n",
        "def function_name(parameter_1, parameter_2, ...):\n",
        "```\n",
        "Then you start specifying what this function does with indented lines. At the end, you can let the function return some data as the output or simply return nothing.\n",
        "\n",
        "After being defined (by running the definition code block), functions can be called in the Python program via \"function_name(input_parameter_1, input_parameter_2, ...)\". The number of input parameters should match the number specified in the definition of the function.\n",
        "\n",
        "Run the two code blocks below to get a sense on how functions are defined in Python. Note that we imported NumPy in order to use the np.array() function to create NumPy arrays."
      ],
      "metadata": {
        "id": "HoplX4at2o3G"
      }
    },
    {
      "cell_type": "code",
      "source": [
        "def addition(a, b):\n",
        "  return a + b\n",
        "  #a and b can either be two numbers or two vectors or even two strings; this is quite flexible in Python"
      ],
      "metadata": {
        "id": "dH66pJsGEPp-"
      },
      "execution_count": null,
      "outputs": []
    },
    {
      "cell_type": "code",
      "source": [
        "import numpy as np\n",
        "\n",
        "#adding two numbers\n",
        "print (addition(3, 4))\n",
        "\n",
        "#adding two vectors as NumPy arrays\n",
        "vec_a = np.array([4, 1, 0])\n",
        "vec_b = np.array([2, 3, 5])\n",
        "print (addition(vec_a, vec_b))\n",
        "\n",
        "#addition two strings\n",
        "str_a = \"Harmonic\"\n",
        "str_b = \"Oscillator\"\n",
        "print (addition(str_a, str_b))"
      ],
      "metadata": {
        "id": "Dn3ZgNyLFLzF"
      },
      "execution_count": null,
      "outputs": []
    },
    {
      "cell_type": "markdown",
      "source": [
        "## 2.1 Harmonic oscillator wave functions\n",
        "\n",
        "In our last lecture, we have shown that for a 1-D harmonic oscillator, the wave functions for the $\\nu = 0$ and $\\nu = 1$ states are:\n",
        "\\begin{align*}\n",
        "    \\psi_0(x) &= \\left( \\frac{\\alpha}{\\pi}\\right)^{1/4} \\exp(-\\alpha x^2/2) \\\\\n",
        "    \\psi_1(x) &= \\left( \\frac{4\\alpha^3}{\\pi}\\right)^{1/4} x\\exp(-\\alpha x^2/2)\n",
        "\\end{align*}\n",
        "where $\\alpha = m\\omega/\\hbar$ and it has the dimension of 1/[Length]$^2$. Using\n",
        "\\begin{equation}\n",
        "\\psi_2 (x) \\equiv \\langle x | 2 \\rangle = \\left \\langle x \\left | \\frac{a^{\\dagger}}{\\sqrt{2}} \\right | 0 \\right\\rangle\n",
        "\\end{equation}\n",
        "we can further derive that\n",
        "\\begin{equation}\n",
        "\\psi_2(x) = \\left(\\frac{\\alpha}{4\\pi}\\right)^{1/4} (2\\alpha x^2 - 1) \\exp(-\\alpha x^2/2)\n",
        "\\end{equation}\n",
        "\n",
        "We can see that the value of a wave function is determined by two parameters: $x$ and $\\alpha$. Let's now define $\\psi_0(x)$ as a function in Python"
      ],
      "metadata": {
        "id": "zX5whoqd9oZo"
      }
    },
    {
      "cell_type": "code",
      "source": [
        "def psi_0(x, alpha):\n",
        "  return (alpha/np.pi)**(1/4) * np.exp(-alpha*x**2/2)"
      ],
      "metadata": {
        "id": "MSBn1hL79GwE"
      },
      "execution_count": null,
      "outputs": []
    },
    {
      "cell_type": "markdown",
      "source": [
        "Note that in Python `x**n` means calculating $x^n$. Let's set $\\alpha = 2$. We can calculate the probability density at $x = 0$ and $x = 3$ as (run the code block below)"
      ],
      "metadata": {
        "id": "7K8htAd2OvYD"
      }
    },
    {
      "cell_type": "code",
      "source": [
        "print (\"Probability density at x = 0: %.3e\" %psi_0(0, 2)**2)\n",
        "print (\"Probability density at x = 3: %.3e\" %psi_0(3, 2)**2)"
      ],
      "metadata": {
        "id": "esaIiHSHP70t"
      },
      "execution_count": null,
      "outputs": []
    },
    {
      "cell_type": "markdown",
      "source": [
        "**Practice 2.1.1 (2 points):** In the two code blocks below, complete the Python functions for $\\psi_1(x)$ and $\\psi_2(x)$ based on their formulas provided above. Then answer the following questions:\n",
        "\n",
        "\n",
        "1.   Assuming $\\alpha = 2$, evaluate the values of $\\psi_1(x)$ and $\\psi_2(x)$ at $x = \\pm 1$. What did you find?\n",
        "2.   With $\\alpha = 2$, compare the magnitude of the probability density of $\\psi_0(x)$, $\\psi_1(x)$, and $\\psi_2(x)$ at $x = 3$. Which state has the largest probability there? (**Hint:** the harmonic oscillator wave functions are real so the probability densities are simply given by the square of the wave functions.)\n",
        "\n",
        "Tips:\n",
        "\n",
        "1.   You may need additional code or text blocks to answer these questions. To create those, simply click the `+ Code` and `+ Text` buttons on the top.\n",
        "2.   When writing the exponent \"1/4\", remember to add a parenthesis \"()\""
      ],
      "metadata": {
        "id": "nbrCWW7qRIsW"
      }
    },
    {
      "cell_type": "code",
      "source": [
        "#Define psi_1\n",
        "def psi_1(x, alpha):\n",
        "  #Your code starts here\n",
        ""
      ],
      "metadata": {
        "id": "mdE14cuAQsyF"
      },
      "execution_count": null,
      "outputs": []
    },
    {
      "cell_type": "code",
      "source": [
        "#Define psi_2\n",
        "def psi_2(x, alpha):\n",
        "  #Your code starts here\n"
      ],
      "metadata": {
        "id": "jhs34_88OkNk"
      },
      "execution_count": null,
      "outputs": []
    },
    {
      "cell_type": "code",
      "source": [
        "#Code needed for answering the two questions\n",
        "\n"
      ],
      "metadata": {
        "id": "pIq4h1xhX_vA"
      },
      "execution_count": null,
      "outputs": []
    },
    {
      "cell_type": "markdown",
      "source": [
        "**Answering the 2.1.1 questions here:** (double-click to edit)\n",
        "1.\n",
        "2."
      ],
      "metadata": {
        "id": "gRd0AxItYCwa"
      }
    },
    {
      "cell_type": "markdown",
      "source": [
        "One important feature of numeric functions of Python is that if the input is a NumPy array, then the function will broadcast automatically to each element of the array, i.e., the output will be an array of the same dimension whose values are generated by **substituting each element of the input array into the function**. Run the code block below to see an example:"
      ],
      "metadata": {
        "id": "adw8RBnyh-80"
      }
    },
    {
      "cell_type": "code",
      "source": [
        "x_3 = np.array([-1, 0, 1]) #input numpy array is [-1, 0, 1]\n",
        "psi_0(x_3, alpha=2) #note: explicitly writing the name of a variable is allowed"
      ],
      "metadata": {
        "id": "pr0aidxJjoHw"
      },
      "execution_count": null,
      "outputs": []
    },
    {
      "cell_type": "markdown",
      "source": [
        "Using the broadcasting feature we can conveniently generate plots of numeric functions. First, we need to import the `pyplot` submodule of **Matplotlib**, a library for generating data-related graphics using Python code. Running the following code block to do so:\n",
        "\n"
      ],
      "metadata": {
        "id": "iOA-NjF7kXdS"
      }
    },
    {
      "cell_type": "code",
      "source": [
        "import matplotlib.pyplot as plt"
      ],
      "metadata": {
        "id": "cw_XBFAwj-Gz"
      },
      "execution_count": null,
      "outputs": []
    },
    {
      "cell_type": "markdown",
      "source": [
        "The submodule `pyplot` contains the `plot` function, which was originally designed to generate line plots for discreate data, with form\n",
        "\n",
        "```\n",
        "plt.plot([x1, x2, ... xn], [y1, y2, ..., yn], [options])\n",
        "```\n",
        "\n",
        "Now we are going to plot the harmonic oscillator wave functions from $x = -5$ to $x = 5$. Beyond those boundaries, the value of the exponential function $e^{-ax^2/2}$ will be extremely small and would not be visible. We use the `np.linspace()` function to to define an evenly spaced grid of $x$: `np.linspace(-5, 5, 101)` means setting up 101 evenly spaced points from -5 to 5. So we have `[-5.0, -4.9, -4.8 ... 4.8, 4,9, 5.0]`.\n",
        "\n",
        "Run the code block below and check out the generated figure. Read the comments carefully to understand what each command does."
      ],
      "metadata": {
        "id": "VHOtWt1omRDb"
      }
    },
    {
      "cell_type": "code",
      "source": [
        "x = np.linspace(-5, 5, 101)  #set up the plotting grid for x\n",
        "#Using alpha = 2 for all of them\n",
        "plt.plot(x, psi_0(x, 2), label='$\\psi_0(x)$') #plot psi_0\n",
        "plt.plot(x, psi_1(x, 2), label='$\\psi_1(x)$') #plot psi_1\n",
        "plt.plot(x, psi_2(x, 2), label='$\\psi_2(x)$') #plot psi_2\n",
        "plt.legend() #showing the legend\n",
        "\n",
        "plt.xlim(-5, 5)  #set the range for the x-axis\n",
        "plt.xticks(np.arange(-5, 5.01, 1)) #use 5.01 on the right to ensure that the tick at x=5.0 is included\n",
        "plt.xlabel('x', fontsize=14) #label of the x-axis\n",
        "plt.ylabel('wave function value', fontsize=14) #label of the y-axis\n",
        "plt.axhline(y = 0, linewidth=0.5, color='black') #creating the line at y = 0 (mainly to guide eyes)\n",
        "plt.show()"
      ],
      "metadata": {
        "id": "WUmPuy3Pu2ze"
      },
      "execution_count": null,
      "outputs": []
    },
    {
      "cell_type": "markdown",
      "source": [
        "Note that the \"label\" specified within each plot command will be used as the texts in the legend (invoked by calling the `plt.legend()` function). One nice feature is that the math symbols in the legend or axis labels (like \"$\\psi$\") can be keyed in using LaTeX."
      ],
      "metadata": {
        "id": "Fs6MvvQ2MTpf"
      }
    },
    {
      "cell_type": "markdown",
      "source": [
        "**Practice 2.1.2 (2.5 points):** using the template provided in the code block above, plot the probability densities ($|\\psi_\\nu(x)|^2$, $\\nu$ = 0, 1, 2) for the three harmonic oscillator wave fucntions. Please make the following changes (will be graded):\n",
        "\n",
        "\n",
        "*   Update the labels for the legend (the LaTex code for $|\\psi_0(x)|^2$ is `label=$|\\psi_0(x)|^2$`)\n",
        "*   Update the range for $x$ from $[-5, 5]$ to $[-3, 3]$; also set the range for the y-axis as $[0, 0.9]$ (use `plt.ylim()`. whose usage is the same as `plt.xlim()`)\n",
        "*   Change the color to \"red\", \"green\", and \"blue\" for the $\\nu$ = 1, 2, 3 wave functions, respectively. To do that, you should add `color='[name of color]'` in the three `plt.plot()` functions. One example has actually been given when calling the `plt.axhline()` function.\n",
        "*   Update the y-axis label to \"Probability Density\"\n",
        "*   Finally, add the plot for $|\\psi_0(x)|^2$ with $\\alpha = 1$. Plot it still using the red color but with `linestyle='dashed'`, which should also be added  to the `plt.plot()`. Also use `label='$|\\psi_0(x)|^2$, smaller $\\\\alpha$'`.\n",
        "\n",
        "Then anaswer the following questions:\n",
        "\n",
        "1.   Which state has the largest probability at $x = 0$? What about at $x = 2$?\n",
        "2.   Comparing the sketches for $|\\psi_0(x)|^2$ with $\\alpha$ = 1 and 2, which probability distribution is narrower?\n",
        "\n",
        "\n",
        "\n",
        "\n",
        "\n",
        "\n",
        "\n"
      ],
      "metadata": {
        "id": "yJvVgBJhdTwU"
      }
    },
    {
      "cell_type": "code",
      "source": [
        "#Your work here. You should start with copying the code template above\n",
        "# and then make modifications as required.\n"
      ],
      "metadata": {
        "id": "JRDd6X1ZhJ7I"
      },
      "execution_count": null,
      "outputs": []
    },
    {
      "cell_type": "markdown",
      "source": [
        "**Answering the 2.1.2 questions here:** (double-click to edit)\n",
        "\n",
        "\n",
        "1.   \n",
        "2.   \n",
        "\n",
        "\n",
        "\n",
        "\n"
      ],
      "metadata": {
        "id": "krG33_eGiL9N"
      }
    },
    {
      "cell_type": "markdown",
      "source": [
        "Now we will check out how to use **scipy** to evaluate integrals of mathematical functions. This will be handled by scipy's **integrate** submodule. Let's first import it by running the code block below."
      ],
      "metadata": {
        "id": "LUyv6Q3GsGBy"
      }
    },
    {
      "cell_type": "code",
      "source": [
        "import scipy.integrate as integrate"
      ],
      "metadata": {
        "id": "IFLdybBHalV_"
      },
      "execution_count": null,
      "outputs": []
    },
    {
      "cell_type": "markdown",
      "source": [
        "The function we are going to use is called `quad()`, which uses a *numerical quadrature* to calculate single-variable integrals. Its basic usage is as\n",
        "\n",
        "\n",
        "```\n",
        "integrate.quad(lambda x: f(x), lower_limit, upper_limit)\n",
        "```\n",
        "\n",
        "where `lambda x` indicates the variable to be integrated. The result will be a tuple with 2 entries: the first being the value of the integral and the second as the estimated error.\n",
        "\n",
        "For example, to integrate $\\sin(x)$ from 0 to $\\pi$, we can simply do (run the code block below)."
      ],
      "metadata": {
        "id": "FkyMIa06sxri"
      }
    },
    {
      "cell_type": "code",
      "source": [
        "I, error = integrate.quad(lambda x: np.sin(x), 0, np.pi)"
      ],
      "metadata": {
        "id": "a4KqsYoFuGjJ"
      },
      "execution_count": null,
      "outputs": []
    },
    {
      "cell_type": "markdown",
      "source": [
        "We can use this funciton to the *orthonormality* of the harmonic oscillator wave functions. First let's show that $\\psi_2(x)$ has been properly normalized. As we have shown above, the harmonic oscillator wave functions decays quickly to zero for $x < -\\alpha$ and $x > \\alpha$. Therefore, for $\\alpha = 2$ we can **choose the lower and upper limit to be -10 and 10, respectively**, which should be sufficiently accurate. Run the code block below and check the results."
      ],
      "metadata": {
        "id": "HGm7NioGvczv"
      }
    },
    {
      "cell_type": "code",
      "source": [
        "N_0 = integrate.quad(lambda x: psi_0(x, 2)**2, -10, 10)[0]\n",
        "N_1 = integrate.quad(lambda x: psi_1(x, 2)**2, -10, 10)[0]\n",
        "N_2 = integrate.quad(lambda x: psi_2(x, 2)**2, -10, 10)[0]\n",
        "print (\"N_0 = %.3e, N_1 = %.3e, N_2 = %.3e\" %(N_0, N_1, N_2))"
      ],
      "metadata": {
        "id": "v2OW8lN-wf8w"
      },
      "execution_count": null,
      "outputs": []
    },
    {
      "cell_type": "markdown",
      "source": [
        "Here the `[0]`'s at the end means taking the first entry of the result tuple, which corresponds to the value of the integral."
      ],
      "metadata": {
        "id": "N5-cGGzmyZn3"
      }
    },
    {
      "cell_type": "markdown",
      "source": [
        "**Practice 2.1.3 (0.5 points):** use `integrate.quad` to check that $\\psi_2(x)$ is *orthogonal* to both $\\psi_0(x)$ and $\\psi_1(x)$ (use -10 and 10 as the lower and upper limits, respectively). Recall that the definition for two wave functions to be orthogonal to each other is:\n",
        "\\begin{equation}\n",
        "\\int dx \\psi_i^{\\ast}(x) \\psi_j(x) = 0, \\quad i\\neq j\n",
        "\\end{equation}\n",
        "Note that here we can ignore the complex conjugate because the harmonic oscillator wave functions are *real*."
      ],
      "metadata": {
        "id": "DxWlbA3axLto"
      }
    },
    {
      "cell_type": "code",
      "source": [
        "#Start your work here\n"
      ],
      "metadata": {
        "id": "glvW_TxUyS3W"
      },
      "execution_count": null,
      "outputs": []
    },
    {
      "cell_type": "markdown",
      "source": [
        "We can also use the `quad()` function to calculate expectation values of observables. For example, to evaluate $\\langle x^2 \\rangle$ for the $\\nu = 0$ state with $\\alpha = 2$, we can simply calculate (run the following code block)"
      ],
      "metadata": {
        "id": "dWLmlgzLyRaN"
      }
    },
    {
      "cell_type": "code",
      "source": [
        "mean_x_square = integrate.quad(lambda x: psi_0(x, 2) * (x**2) * psi_0(x, 2), -10, 10)[0]\n",
        "print (\"The expectation value of x^2: %.3f\" %mean_x_square)"
      ],
      "metadata": {
        "id": "NhEOWVpA1FYW"
      },
      "execution_count": null,
      "outputs": []
    },
    {
      "cell_type": "markdown",
      "source": [
        "**Practice 2.1.4 (2 points):** considering a cubic potential $V(x) = x^3/2$. Evaluate the matrix representation of this potential in the basis of $|\\psi_0\\rangle$, $|\\psi_1\\rangle$, and $|\\psi_2\\rangle$ (with $\\alpha = 2$). Provide the code for the integral calculations and complete the matrix in the text box below.\n",
        "\n",
        "Tips:\n",
        "\n",
        "1.   You only need to calculate 6 different integrals, because the matrix must be *symmetric*.\n",
        "2.   If you can identify some matrix elements must be zero without calculating the integral, please feel free to do so and provide an argument in the textbox\n",
        "\n"
      ],
      "metadata": {
        "id": "wvX0rPh21w2c"
      }
    },
    {
      "cell_type": "code",
      "source": [
        "V_00 = integrate.quad(lambda x: psi_0(x, 2) * x**3/2 * psi_0(x, 2), -10, 10)[0]\n",
        "print (\"V_00: %.4f\" %V_00)\n",
        "#Start your work here; the first matrix element has been calculated\n"
      ],
      "metadata": {
        "id": "dwuo9_Qy3ln7"
      },
      "execution_count": null,
      "outputs": []
    },
    {
      "cell_type": "markdown",
      "source": [
        "**The final answer for 2.1.4:**\n",
        "(double-click to replace each entry with the matrix elements you calculated)\n",
        "\\begin{equation}\n",
        "\\mathbf{V} =\n",
        "\\begin{pmatrix}\n",
        "V_{00} & V_{01} & V_{02} \\\\\n",
        "V_{10} & V_{11} & V_{12} \\\\\n",
        "V_{20} & V_{21} & V_{22} \\\\\n",
        "\\end{pmatrix}\n",
        "\\end{equation}"
      ],
      "metadata": {
        "id": "eXxLHJMC3rOU"
      }
    },
    {
      "cell_type": "markdown",
      "source": [
        "## 2.2 Anharmonic Potential\n",
        "Let's now look at some real-world data by loading the potential energy curve for a **carbonyl** (C=O) group in an aldehyde. First, please make sure that your Google Drive, in particular the `Shareddrives`, is **mounted** and that you have `CHEM-713-data-share` under your `Shareddrives`. If that is the case, you should be able to run the code block below; if not, you can click the 4th button on the column (\"Files\") that looks like a file folder on the leftmost of this page, and then click the 3rd button on the top that looks like a file folder with a Google Drive symbol to mount your Google Drive. If you get any trouble in doing this, please ask the instructor for assistance."
      ],
      "metadata": {
        "id": "4vLzZWny6sXv"
      }
    },
    {
      "cell_type": "code",
      "source": [
        "import pandas as pd\n",
        "data_CO = pd.read_csv('drive/Shareddrives/CHEM-713-data-share/Practice_2/PES_CO.csv')\n",
        "display(data_CO)"
      ],
      "metadata": {
        "id": "oBEQJqnQ8MK-"
      },
      "execution_count": null,
      "outputs": []
    },
    {
      "cell_type": "markdown",
      "source": [
        "The data you just loaded corresponds to the changes in energy (in atomic units) when the C=O bond is shortened/stretched obtained from DFT calculations (distance \"0\" corresponds to the equilibrium bond length, where the energy is at the minimum). Here we have imported a new module called **Pandas**, which is extremely useful for processing tabulated data (not required in this course though).\n",
        "\n",
        "Let's now define two Numpy arrays: `r_CO` for the bond lengths, and `E_CO` for the energy relative to the minimum. The code block below will do this for you:"
      ],
      "metadata": {
        "id": "YMZYT82b8c9u"
      }
    },
    {
      "cell_type": "code",
      "source": [
        "r_CO = data_CO['distance'].values\n",
        "E_CO_origin = float(data_CO.loc[data_CO['distance'] == 0.00]['energy'])\n",
        "E_CO = data_CO['energy'].values - E_CO_origin"
      ],
      "metadata": {
        "id": "BpdtgYNI-m49"
      },
      "execution_count": null,
      "outputs": []
    },
    {
      "cell_type": "markdown",
      "source": [
        "Now we should sketch the potential energy surfaces below. Since the data are discreate, here we will use the `scatter` plot in Matplotlib."
      ],
      "metadata": {
        "id": "oJ90ccsuACJs"
      }
    },
    {
      "cell_type": "code",
      "source": [
        "plt.scatter(r_CO, E_CO)\n",
        "plt.xlabel('$r - r_e$ ($\\mathrm{\\AA}$)', fontsize=14)\n",
        "plt.ylabel('$E$ (a.u.)', fontsize=14)\n",
        "plt.show()"
      ],
      "metadata": {
        "id": "m56FULvU__R9"
      },
      "execution_count": null,
      "outputs": []
    },
    {
      "cell_type": "markdown",
      "source": [
        "Now we are going to fit these data to **(i) the harmonic potential; (ii) the Morse potential**. Let's recall the forms of the potential energy functions:\n",
        "\\begin{align}\n",
        "E_{\\text{harm}} &= \\frac{1}{2}k x^2 \\\\\n",
        "E_{\\text{Morse}} &= D_e[1 - \\exp(-\\alpha x)]^2\n",
        "\\end{align}\n",
        "Let's define them as the following:"
      ],
      "metadata": {
        "id": "Aar_gIpVCkU4"
      }
    },
    {
      "cell_type": "code",
      "source": [
        "def harm_potential(x, k):\n",
        "  return 0.5 * k * x**2\n",
        "\n",
        "def Morse_potential(x, D_e, alpha):\n",
        "  return D_e * (1.0 - np.exp(-alpha * x))**2"
      ],
      "metadata": {
        "id": "kPqm9ylwFY-H"
      },
      "execution_count": null,
      "outputs": []
    },
    {
      "cell_type": "markdown",
      "source": [
        "Now we are going to use the `curve_fit()` function under `scipy.optimize` (another submodule of `scipy`) to fit the PES to these two model potentials. Its basic usage:\n",
        "\n",
        "```\n",
        "curve_fit(the_model_function, xdata, ydata)\n",
        "```\n",
        "Here `harm_potential` and `Morse_potential` (no \"( )\" needed when they serve as the input of the `curve_fit` function) will serve as the model function. The first entry of the output is **an array the parameters to be fitted**, and you can retrieve each parameters from this array (see the examples below).\n",
        "\n",
        "We will also import a function called `r2_score()` from `sklearn.metrics` (`sklearn` is a machine-learning package in Python) to show how good/bad the fit is, just like how you check the $R^2$-value for linear regression. Run the code block before to import these functions. Its usage:\n",
        "\n",
        "\n",
        "```\n",
        "r2_score(y_real, y_predict)\n",
        "```\n",
        "\n",
        "where `y_real` is the $y$-data used for fitting, and `y_predict` is the prediction of the fitted model based on the same input $x$-data."
      ],
      "metadata": {
        "id": "xTKyir18GNSX"
      }
    },
    {
      "cell_type": "code",
      "execution_count": null,
      "metadata": {
        "id": "7ipeBHzEMBSv"
      },
      "outputs": [],
      "source": [
        "from scipy.optimize import curve_fit\n",
        "from sklearn.metrics import r2_score"
      ]
    },
    {
      "cell_type": "markdown",
      "source": [
        "Let's do the harmonic potential first (run the code block below):"
      ],
      "metadata": {
        "id": "QLakM71dHeEc"
      }
    },
    {
      "cell_type": "code",
      "source": [
        "params_harm = curve_fit(harm_potential, r_CO, E_CO)[0]\n",
        "k_fit = params_harm[0]\n",
        "print (\"Fitted k value: %.4f\" %k_fit)\n",
        "V_harm_fit = harm_potential(r_CO, k_fit)\n",
        "r2_harm = r2_score(E_CO, V_harm_fit)\n",
        "print (\"The R-square value for the harmonic potential fit: %.4f\" %r2_harm)"
      ],
      "metadata": {
        "id": "qDJuZkouHg5r"
      },
      "execution_count": null,
      "outputs": []
    },
    {
      "cell_type": "markdown",
      "source": [
        "From the $R^2$-value we can see that the quality of this fit is not very satisfactory. Now let's fit to the Morse potential. Check how good the R-square value is.\n"
      ],
      "metadata": {
        "id": "SOywIRgaIlSm"
      }
    },
    {
      "cell_type": "code",
      "source": [
        "params_Morse = curve_fit(Morse_potential, r_CO, E_CO)[0]\n",
        "D_e, alpha = params_Morse\n",
        "print (\"Fitted Morse parameters: D_e: %.4f; alpha = %.4f\" %(D_e, alpha))\n",
        "V_Morse_fit = Morse_potential(r_CO, D_e, alpha)\n",
        "r2_Morse = r2_score(E_CO, V_Morse_fit)\n",
        "print (\"The R-square value for the Morse potential fit: %.4f\" %r2_Morse)"
      ],
      "metadata": {
        "id": "fGPcoKCnJBPS"
      },
      "execution_count": null,
      "outputs": []
    },
    {
      "cell_type": "markdown",
      "source": [
        "Now let's plot the fitted potential functions together with the original data."
      ],
      "metadata": {
        "id": "Y33eMPv6KTh5"
      }
    },
    {
      "cell_type": "code",
      "source": [
        "plt.scatter(r_CO, E_CO, label='Orig PES')\n",
        "plt.plot(r_CO, V_Morse_fit, label='Morse')\n",
        "plt.plot(r_CO, V_harm_fit, label='Harmonic')\n",
        "plt.legend(loc='lower right')\n",
        "plt.xlabel('$r - r_e$ ($\\mathrm{\\AA}$)', fontsize=14)\n",
        "plt.ylabel('$E$ (a.u.)', fontsize=14)\n",
        "plt.show()"
      ],
      "metadata": {
        "id": "_mlpIwBuu71N"
      },
      "execution_count": null,
      "outputs": []
    },
    {
      "cell_type": "markdown",
      "source": [
        "Based on the fitted Morse potential curves, we can calculate the vibrational frequency fpr the $0\\rightarrow 1$ transition with anharmonicity taken into account as\n",
        "\\begin{equation}\n",
        "\\nu_{01} = \\omega_0 - \\frac{\\omega_0^2}{2D_e}\n",
        "\\end{equation}\n",
        "where\n",
        "\\begin{equation}\n",
        "\\omega_0 = \\sqrt{\\frac{2D_e}{\\mu}} \\alpha\n",
        "\\end{equation}\n",
        "\n",
        "where $\\mu$ is the reduced mass for the two bonding atoms. Here we provide a general function for doing this, which looks somehow more complicated than it should be because of the need for conversion of units:"
      ],
      "metadata": {
        "id": "0TDbJNwOOUgv"
      }
    },
    {
      "cell_type": "code",
      "source": [
        "def extract_vib_params_from_Morse(D_e, alpha, M_1, M_2):\n",
        "  Ha_to_wavenumber = 219474.6\n",
        "  Bohr_to_Angs = 0.529177\n",
        "  amu_to_me = 1822.82\n",
        "  mu = M_1 * M_2 / (M_1 + M_2)\n",
        "  omega_0 = Ha_to_wavenumber * np.sqrt(2.0 * D_e / (mu * amu_to_me)) * (alpha * Bohr_to_Angs)\n",
        "  nu = omega_0 - omega_0**2 / (2 * D_e * Ha_to_wavenumber)\n",
        "  return omega_0, nu"
      ],
      "metadata": {
        "id": "HpY2afytNUWc"
      },
      "execution_count": null,
      "outputs": []
    },
    {
      "cell_type": "markdown",
      "source": [
        "For our C=O stretch here, $M_C$ = 12.01 amu, $M_O$ = 15.9994 amu. Run the code block below to get the results:"
      ],
      "metadata": {
        "id": "tpp6Bm1ZR_YU"
      }
    },
    {
      "cell_type": "code",
      "source": [
        "M_1 = 12.01\n",
        "M_2 = 15.9994\n",
        "omega_CO, nu_CO = extract_vib_params_from_Morse(D_e, alpha, M_1, M_2)\n",
        "print (\"omega_CO: %.2f cm^{-1}; nu_CO: %.2f cm^{-1}\" %(omega_CO, nu_CO))\n",
        "\n",
        "#Code added on 10/05/22\n",
        "Ha_to_wavenumber = 219474.6\n",
        "anharm_CO = omega_CO ** 2 / (2 * D_e * Ha_to_wavenumber)\n",
        "print (\"The anharmonic constant for C=O: %.4f\" %anharm_CO)"
      ],
      "metadata": {
        "id": "vsgSvPzZR7mp"
      },
      "execution_count": null,
      "outputs": []
    },
    {
      "cell_type": "markdown",
      "source": [
        "**Practice 2.2.1 (3 points):** repeat the procedure documented above (including plots, fits, and final calculation of vibrational frequencies) for a **deuterated** C-H bond  ($M_D$ = 2.014) in the same aldehyde. Which bond is **more anharmonic**?\n",
        "\n",
        "Let's start with load the data for the C-D bond:"
      ],
      "metadata": {
        "id": "z1KvIrvKTAoK"
      }
    },
    {
      "cell_type": "code",
      "source": [
        "data_CD = pd.read_csv('drive/Shareddrives/CHEM-713-data-share/Practice_2/PES_CD.csv')\n",
        "display(data_CD)"
      ],
      "metadata": {
        "id": "PRzQQ-ZOTtuv"
      },
      "execution_count": null,
      "outputs": []
    },
    {
      "cell_type": "code",
      "source": [
        "#Start your work for 2.2.1 here; you can use multiple code blocks.\n"
      ],
      "metadata": {
        "id": "t_SRksAxUU5O"
      },
      "execution_count": null,
      "outputs": []
    },
    {
      "cell_type": "markdown",
      "source": [
        "**Double-click to answer the question in 2.2.1 here:** (do NOT forget)"
      ],
      "metadata": {
        "id": "iPH2GkUuV9OK"
      }
    },
    {
      "cell_type": "markdown",
      "source": [
        "Please submit your work by **pasting the link** to this Google Colab notebook to the corresponding assignment on Canvas. To do that, you can click \"Share\" on the top right of this page, and then add my email (ymao2@sdsu.edu) to the top of the pop-up box, and click the \"copy link\" button. If you have difficulty doing this, make sure to talk to me before or after the Thursday lecture and I will provide some technical assistance.\n",
        "\n",
        "This assignment is due at **11:59 PM (PDT) this Friday** (10/07/2022)."
      ],
      "metadata": {
        "id": "9b1wfDGLXngm"
      }
    }
  ]
}