{
  "nbformat": 4,
  "nbformat_minor": 0,
  "metadata": {
    "colab": {
      "provenance": [],
      "authorship_tag": "ABX9TyPgfxg3AZZ3yysXW9lS4gdY",
      "include_colab_link": true
    },
    "kernelspec": {
      "name": "python3",
      "display_name": "Python 3"
    },
    "language_info": {
      "name": "python"
    }
  },
  "cells": [
    {
      "cell_type": "markdown",
      "metadata": {
        "id": "view-in-github",
        "colab_type": "text"
      },
      "source": [
        "<a href=\"https://colab.research.google.com/github/YuezhiMao/Teaching-materials/blob/main/chem713/Hatom_Stark.ipynb\" target=\"_parent\"><img src=\"https://colab.research.google.com/assets/colab-badge.svg\" alt=\"Open In Colab\"/></a>"
      ]
    },
    {
      "cell_type": "code",
      "source": [
        "import numpy as np\n",
        "import scipy.integrate as integrate\n",
        "import matplotlib.pyplot as plt"
      ],
      "metadata": {
        "id": "UTO1SYGoubgc"
      },
      "execution_count": null,
      "outputs": []
    },
    {
      "cell_type": "markdown",
      "source": [
        "# 1. **Quadratic Stark effect for hydrogen atom's 1s state**"
      ],
      "metadata": {
        "id": "HtmMJ6_1bEIi"
      }
    },
    {
      "cell_type": "markdown",
      "source": [
        "The function below **provides the hydrogen atom wave functions** (in a.u.) we need in this problem.\n",
        "\n",
        "\\begin{align*}\n",
        "\\psi_{1s}(r, \\theta, \\phi) &= \\frac{1}{\\pi^{1/2}} e^{-r} \\\\\n",
        "\\psi_{2s}(r, \\theta, \\phi) &= \\frac{1}{2(2\\pi)^{1/2}} \\left(1 - \\frac{r}{2}\\right) e^{-r/2} \\\\\n",
        "\\psi_{2p_z}(r, \\theta, \\phi) &= \\frac{1}{4(2\\pi)^{1/2}} r e^{-r/2}\\cos\\theta \\\\\n",
        "\\psi_{2p_x}(r, \\theta, \\phi) &= \\frac{1}{4(2\\pi)^{1/2}} r e^{-r/2}\\sin\\theta\\cos\\phi \\\\\n",
        "\\psi_{2p_y}(r, \\theta, \\phi) &= \\frac{1}{4(2\\pi)^{1/2}} r e^{-r/2}\\sin\\theta\\sin\\phi\n",
        "\\end{align*}\n",
        "\n",
        "The label needs to be specified when calling the function."
      ],
      "metadata": {
        "id": "JqHSEZcgK9fc"
      }
    },
    {
      "cell_type": "code",
      "source": [
        "def H_eigenstate(r, theta, phi, label):\n",
        "  if label == \"1s\":\n",
        "    return 1/np.sqrt(np.pi) * np.exp(-r)\n",
        "  elif label == '2s':\n",
        "    return 1/(2 * np.sqrt(2*np.pi)) * (1 - r/2) * np.exp(-r/2)\n",
        "  elif label == '2pz':\n",
        "    return 1/(4 * np.sqrt(2*np.pi)) * r * np.exp(-r/2) * np.cos(theta)\n",
        "  elif label == '2px':\n",
        "    return 1/(4 * np.sqrt(2*np.pi)) * r * np.exp(-r/2) * np.sin(theta) * np.cos(phi)\n",
        "  elif label == '2py':\n",
        "    return 1/(4 * np.sqrt(2*np.pi)) * r * np.exp(-r/2) * np.sin(theta) * np.sin(phi)\n",
        "  else:\n",
        "    print (\"Label unrecognized\")\n",
        "    return 0"
      ],
      "metadata": {
        "id": "D2aPb3L5NqxZ"
      },
      "execution_count": null,
      "outputs": []
    },
    {
      "cell_type": "markdown",
      "source": [
        "Next we write the function for **unperturbed H-atom energy** (in a.u.):\n",
        "\n",
        "\\begin{equation*}\n",
        "  E_n = -1/2n^2\n",
        "\\end{equation*}"
      ],
      "metadata": {
        "id": "Az5uYeadQSiE"
      }
    },
    {
      "cell_type": "code",
      "source": [
        "def E_H(n):\n",
        "  return -1/(2 * n**2)"
      ],
      "metadata": {
        "id": "vNGnWjWsQO7R"
      },
      "execution_count": null,
      "outputs": []
    },
    {
      "cell_type": "markdown",
      "source": [
        "Then we write a function to evaluate the **couplings between H-atom eigenstates through the first-order Hamiltonian**, i.e., the matrix elements of $\\hat{H}^{(1)} = -\\mathcal{E}z = -\\mathcal{E} r\\cos\\theta$. For example, for the coupling between the $1s$ and $2s$ states, we have\n",
        "\\begin{equation*}\n",
        "  \\langle 1s | \\hat{H}^{(1)} | 2s \\rangle = -\\mathcal{E} \\int_{0}^{2\\pi} d\\phi \\int_{0}^{\\pi}d\\theta \\int_{0}^{\\infty} dr \\ r^2 \\sin\\theta \\ \\psi_{1s}(r,\\theta,\\phi) (r\\cos\\theta)  \\psi_{2s}(r, \\theta, \\phi)\n",
        "\\end{equation*}\n",
        "To evaluate the triple integral, we need to use the `integrate.tplquad` function: for an integrand $f(r, \\theta, \\phi)$, we can call this function as\n",
        "\n",
        "\n",
        "```\n",
        "Integrate.tplquad(lambda r, theta, phi: f(r, theta, phi), phi_min, phi_max, theta_min, theta_max, r_min, r_max)[0]\n",
        "```\n",
        "which returns the value of the integral.\n"
      ],
      "metadata": {
        "id": "ZP_Fi3GNRPm1"
      }
    },
    {
      "cell_type": "code",
      "source": [
        "def calculate_coupling(field_strength, label_i, label_j):\n",
        "  # Input: E-field strength in a.u.; label of the bra state; label of the ket state\n",
        "  # Calculate the triple integral:\n",
        "  coupling = integrate.tplquad(lambda r, theta, phi: r**2 * np.sin(theta) *\n",
        "                               H_eigenstate(r, theta, phi, label_i) *\n",
        "                               r * np.cos(theta) * H_eigenstate(r, theta, phi, label_j),\n",
        "                               0, 2*np.pi, 0, np.pi, 0, np.inf)[0]\n",
        "  # Multiply the integral by -E (field strength)\n",
        "  coupling *= - field_strength\n",
        "  return coupling"
      ],
      "metadata": {
        "id": "I9viSxO4Tf9k"
      },
      "execution_count": null,
      "outputs": []
    },
    {
      "cell_type": "markdown",
      "source": [
        "To show you how to use this code, let's now verify that the first-order energy correction for the $1s$ state indeed vanishes, i.e.,\n",
        "\\begin{equation*}\n",
        "E^{(1)} = \\langle 1s | \\hat{H}^{(1)} | 1s \\rangle = 0\n",
        "\\end{equation*}\n",
        "\n",
        "---\n",
        "\n"
      ],
      "metadata": {
        "id": "i4_vrkoQYtIs"
      }
    },
    {
      "cell_type": "code",
      "source": [
        "#Giving a random field strength  E = 0.01 a.u.\n",
        "E_1 = calculate_coupling(0.01, \"1s\", \"1s\")\n",
        "print (\"First-order energy correction for the 1s state: %.8f\" %E_1)"
      ],
      "metadata": {
        "id": "_Z_qpXu5Zh6t"
      },
      "execution_count": null,
      "outputs": []
    },
    {
      "cell_type": "markdown",
      "source": [
        "## **Complete your code for Problem 5.3.3 and 5.3.4 below:**\n",
        "**Tips:**\n",
        "\n",
        "\n",
        "1.   Don't forget to do the unit conversion from MV/cm to a.u. for the electric field; also, remember to convert your final energy from a.u. to eV.\n",
        "2.   You may want to evaluate each term separately in order to answer 5.3.4\n",
        "3.   Add comments to inform what each step is doing\n",
        "\n"
      ],
      "metadata": {
        "id": "fKs91mv6Wmiu"
      }
    },
    {
      "cell_type": "code",
      "source": [
        "# Your code for 5.3.3 and 5.3.4 (will be graded)\n",
        "\n",
        "field_strength =\n",
        "# Complete your code to evaluate the contributions from the four n=2 states separately:\n",
        "# 2s\n",
        "E2_2s =\n",
        "print (\"Contribution from 2s: %.8f\" %E2_2s)\n",
        "# 2pz\n",
        "E2_2pz =\n",
        "print (\"Contribution from 2pz: %.8f\" %E2_2pz)\n",
        "# 2px\n",
        "E2_2px =\n",
        "print (\"Contribution from 2px: %.8f\" %E2_2px)\n",
        "# 2py\n",
        "E2_2py =\n",
        "print (\"Contribution from 2py: %.8f\" %E2_2py)\n",
        "\n",
        "# Sum up and convert to eV\n",
        "E2_total =\n",
        "print (\"The total 2nd-order correction: %.8f (eV)\" %E2_total)"
      ],
      "metadata": {
        "id": "z4-qfcWCaBMk"
      },
      "execution_count": null,
      "outputs": []
    },
    {
      "cell_type": "markdown",
      "source": [
        "# 2. **Linear Stark effect for hydrogen atom's $n=2$ states**"
      ],
      "metadata": {
        "id": "GZIhv1X3bXrT"
      }
    },
    {
      "cell_type": "markdown",
      "source": [
        "## **Complete your code for Problem 5.4 below**\n",
        "\n",
        "First, complete the function that evaluate the **matrix representation** of $\\hat{H}^{(1)}$ in the degenereate basis\n",
        "\n",
        "**Tip:** You may want to look up the use of the `enumerate` function in Python to better understand this code (e.g., https://pythonbasics.org/enumerate/)"
      ],
      "metadata": {
        "id": "KreRNcX6iIZN"
      }
    },
    {
      "cell_type": "code",
      "source": [
        "def construct_H1_matrix(field_strength, deg_levels):\n",
        "  nbas = len(deg_levels) # The number of basis is equal to #degenerate levels\n",
        "  H = np.zeros((nbas, nbas)) # Initialize H\n",
        "  for i, label_i in enumerate(deg_levels):\n",
        "    for j, label_j in enumerate(deg_levels):\n",
        "      # Your work here: evaluate the matrix element of the 1st-order H\n",
        "      H[i, j] =\n",
        "\n",
        "  return H"
      ],
      "metadata": {
        "id": "GhAvoIqcumYx"
      },
      "execution_count": null,
      "outputs": []
    },
    {
      "cell_type": "markdown",
      "source": [
        "Simply **run** the code block below to calculate the Hamiltonian. **Note:** Pay attention to the **ordering of the 4 basis states**."
      ],
      "metadata": {
        "id": "EMiLN2Jll0VR"
      }
    },
    {
      "cell_type": "code",
      "source": [
        "# We have for degenerate n = 2 levels\n",
        "deg_levels = [\"2s\", \"2pz\", \"2px\", \"2py\"]\n",
        "# The same field strength as above used here\n",
        "H = construct_H1_matrix(field_strength, deg_levels)\n",
        "print (H)"
      ],
      "metadata": {
        "id": "-UrFrjh_fmbA"
      },
      "execution_count": null,
      "outputs": []
    },
    {
      "cell_type": "markdown",
      "source": [
        "Given the $\\mathbf{H}^{(1)}$ matrix in the degenerate basis. Now in the code block below\n",
        "\n",
        "\n",
        "\n",
        "1.   Calculate the eigenvalues and eigenvectors using the `np.linalg.eigh` function (if you forget how to use this function, please look up in your Python notebook for **Practice 1 or 3**)\n",
        "2.   Calculate the energies (**in eV**) of the $n=2$ levels perturbed by the external electric field\n",
        "\n",
        "The results can be reported as **simple prints of Numpy arrays/matrices** (using the `print` function)"
      ],
      "metadata": {
        "id": "qpNvE-NnmaqC"
      }
    },
    {
      "cell_type": "code",
      "source": [
        "# Now diagonalize H to get the eigenvalues and eigenvectors\n",
        "# Then print them out\n",
        "E, V =\n",
        "\n",
        "# Report the shifted energies for the n=2 levels (in eV)\n",
        "Energy_levels =\n",
        "print (\"The energy levels in eV:\")\n",
        "print (Energy_levels)"
      ],
      "metadata": {
        "id": "jTdWOBr2gh0l"
      },
      "execution_count": null,
      "outputs": []
    },
    {
      "cell_type": "markdown",
      "source": [
        "At last, use the eigenvalues above (NumPy array `E`) to evaluate the percentage of the shift relative to the unperturbed $n=2$ energy"
      ],
      "metadata": {
        "id": "OdVyaDfU6NWt"
      }
    },
    {
      "cell_type": "code",
      "source": [
        "# Calculate the percentage here\n"
      ],
      "metadata": {
        "id": "S3WUw-ErgK9y"
      },
      "execution_count": null,
      "outputs": []
    }
  ]
}